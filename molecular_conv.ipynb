{
 "cells": [
  {
   "cell_type": "code",
   "execution_count": 1,
   "metadata": {},
   "outputs": [
    {
     "name": "stdout",
     "output_type": "stream",
     "text": [
      "61\n"
     ]
    },
    {
     "data": {
      "text/plain": [
       "'HIS residue (4) has the wrong set of atoms'"
      ]
     },
     "execution_count": 1,
     "metadata": {},
     "output_type": "execute_result"
    }
   ],
   "source": [
    "# output from prepare_pdbbind\n",
    "failed_pdbs = {'1h6e': 'HIS residue (35) has the wrong set of atoms', '1svh': 'HIS residue (78) has the wrong set of atoms', '3bho': 'HIS residue (19) has the wrong set of atoms', '3bc5': 'HIS residue (6) has the wrong set of atoms', '3fxv': 'HIS residue (36) has the wrong set of atoms', '3s74': 'HIS residue (0) has the wrong set of atoms', '3smq': 'HIS residue (39) has the wrong set of atoms', '2y4k': 'HIS residue (50) has the wrong set of atoms', '3sm0': 'HIS residue (9) has the wrong set of atoms', '4hai': 'HIS residue (43) has the wrong set of atoms', '4ehm': 'HIS residue (1) has the wrong set of atoms', '4ayt': 'HIS residue (36) has the wrong set of atoms', '3rv9': 'HIS residue (21) has the wrong set of atoms', '3uib': 'HIS residue (50) has the wrong set of atoms', '4ayw': 'HIS residue (31) has the wrong set of atoms', '4gv8': 'HIS residue (34) has the wrong set of atoms', '4bae': 'HIS residue (34) has the wrong set of atoms', '4mb9': 'HIS residue (38) has the wrong set of atoms', '4ezj': 'HIS residue (18) has the wrong set of atoms', '4j8t': 'HIS residue (31) has the wrong set of atoms', '4aw8': 'HIS residue (40) has the wrong set of atoms', '4kv9': 'HIS residue (45) has the wrong set of atoms', '4kva': 'HIS residue (47) has the wrong set of atoms', '4q2k': 'HIS residue (8) has the wrong set of atoms', '4ryl': 'HIS residue (35) has the wrong set of atoms', '4rrr': 'HIS residue (48) has the wrong set of atoms', '4rrq': 'HIS residue (23) has the wrong set of atoms', '4yxu': 'HIS residue (1) has the wrong set of atoms', '4zyv': 'HIS residue (3) has the wrong set of atoms', '5iui': 'HIS residue (4) has the wrong set of atoms', '5izu': 'HIS residue (2) has the wrong set of atoms', '4xuh': 'HIS residue (12) has the wrong set of atoms', '4yb6': 'HIS residue (43) has the wrong set of atoms', '5hx8': 'HIS residue (6) has the wrong set of atoms', '5gic': 'HIS residue (48) has the wrong set of atoms', '5j3s': 'HIS residue (4) has the wrong set of atoms', '5mrd': 'HIS residue (5) has the wrong set of atoms', '5q0x': 'HIS residue (36) has the wrong set of atoms', '5ngf': 'HIS residue (41) has the wrong set of atoms', '5ien': 'HIS residue (63) has the wrong set of atoms', '5one': 'HIS residue (49) has the wrong set of atoms', '5if6': 'HIS residue (36) has the wrong set of atoms', '5wqd': 'HIS residue (21) has the wrong set of atoms', '6gbx': 'HIS residue (13) has the wrong set of atoms', '5wkl': 'HIS residue (45) has the wrong set of atoms', '6do4': 'HIS residue (54) has the wrong set of atoms', '5ypw': 'HIS residue (4) has the wrong set of atoms', '6ck3': 'HIS residue (6) has the wrong set of atoms', '5wgq': 'HIS residue (14) has the wrong set of atoms', '6do5': 'HIS residue (55) has the wrong set of atoms', '6hjk': 'HIS residue (25) has the wrong set of atoms', '6ck6': 'HIS residue (7) has the wrong set of atoms', '6cmr': 'HIS residue (10) has the wrong set of atoms', '6cjy': 'HIS residue (7) has the wrong set of atoms', '6c5t': 'HIS residue (11) has the wrong set of atoms', '6qyo': 'HIS residue (19) has the wrong set of atoms', '6i4x': 'HIS residue (42) has the wrong set of atoms', '6edl': 'HIS residue (3) has the wrong set of atoms', '6r0x': 'HIS residue (61) has the wrong set of atoms', '6e0r': 'HIS residue (4) has the wrong set of atoms', '6ebw': 'HIS residue (4) has the wrong set of atoms'}\n",
    "failed_pdb_list = list(failed_pdbs.keys())\n",
    "print(len(failed_pdbs))\n",
    "failed_pdbs['5ypw']"
   ]
  },
  {
   "cell_type": "code",
   "execution_count": 2,
   "metadata": {},
   "outputs": [],
   "source": [
    "# 3nzc fails because plip does not find an interaction partner - this is also true in the web service!\n",
    "# therefore I exclude it\n",
    "failed_pdb_list.append('3nzc')"
   ]
  },
  {
   "cell_type": "code",
   "execution_count": 3,
   "metadata": {},
   "outputs": [
    {
     "name": "stdout",
     "output_type": "stream",
     "text": [
      "['1h6e', '1svh', '3bho', '3bc5', '3fxv', '3s74', '3smq', '2y4k', '3sm0', '4hai', '4ehm', '4ayt', '3rv9', '3uib', '4ayw', '4gv8', '4bae', '4mb9', '4ezj', '4j8t', '4aw8', '4kv9', '4kva', '4q2k', '4ryl', '4rrr', '4rrq', '4yxu', '4zyv', '5iui', '5izu', '4xuh', '4yb6', '5hx8', '5gic', '5j3s', '5mrd', '5q0x', '5ngf', '5ien', '5one', '5if6', '5wqd', '6gbx', '5wkl', '6do4', '5ypw', '6ck3', '5wgq', '6do5', '6hjk', '6ck6', '6cmr', '6cjy', '6c5t', '6qyo', '6i4x', '6edl', '6r0x', '6e0r', '6ebw', '3nzc']\n"
     ]
    }
   ],
   "source": [
    "print(failed_pdb_list)"
   ]
  },
  {
   "cell_type": "code",
   "execution_count": 4,
   "metadata": {},
   "outputs": [
    {
     "name": "stdout",
     "output_type": "stream",
     "text": [
      "@@@@  hbond\n",
      "Model weights: 47\n",
      "Training size: 9 Test size: 9\n",
      "Using cuda device.\n"
     ]
    },
    {
     "name": "stderr",
     "output_type": "stream",
     "text": [
      "/opt/conda/conda-bld/pytorch_1711403378171/work/aten/src/ATen/native/cuda/IndexKernel.cu:92: operator(): block: [22,0,0], thread: [8,0,0] Assertion `-sizes[i] <= index && index < sizes[i] && \"index out of bounds\"` failed.\n",
      "/opt/conda/conda-bld/pytorch_1711403378171/work/aten/src/ATen/native/cuda/IndexKernel.cu:92: operator(): block: [22,0,0], thread: [9,0,0] Assertion `-sizes[i] <= index && index < sizes[i] && \"index out of bounds\"` failed.\n",
      "/opt/conda/conda-bld/pytorch_1711403378171/work/aten/src/ATen/native/cuda/IndexKernel.cu:92: operator(): block: [22,0,0], thread: [10,0,0] Assertion `-sizes[i] <= index && index < sizes[i] && \"index out of bounds\"` failed.\n"
     ]
    },
    {
     "ename": "RuntimeError",
     "evalue": "CUDA error: device-side assert triggered\nCUDA kernel errors might be asynchronously reported at some other API call, so the stacktrace below might be incorrect.\nFor debugging consider passing CUDA_LAUNCH_BLOCKING=1.\nCompile with `TORCH_USE_CUDA_DSA` to enable device-side assertions.\n",
     "output_type": "error",
     "traceback": [
      "\u001b[0;31m---------------------------------------------------------------------------\u001b[0m",
      "\u001b[0;31mRuntimeError\u001b[0m                              Traceback (most recent call last)",
      "Cell \u001b[0;32mIn[4], line 60\u001b[0m\n\u001b[1;32m     56\u001b[0m dataloader_test \u001b[38;5;241m=\u001b[39m DataLoader(dataset_test, batch_size\u001b[38;5;241m=\u001b[39m\u001b[38;5;241m5\u001b[39m, shuffle\u001b[38;5;241m=\u001b[39m\u001b[38;5;28;01mFalse\u001b[39;00m, collate_fn\u001b[38;5;241m=\u001b[39mdataset_test\u001b[38;5;241m.\u001b[39mcollate_fn, pin_memory\u001b[38;5;241m=\u001b[39m\u001b[38;5;28;01mTrue\u001b[39;00m, num_workers\u001b[38;5;241m=\u001b[39m\u001b[38;5;241m1\u001b[39m)\n\u001b[1;32m     58\u001b[0m \u001b[38;5;28mprint\u001b[39m(\u001b[38;5;124m\"\u001b[39m\u001b[38;5;124mTraining size:\u001b[39m\u001b[38;5;124m\"\u001b[39m, \u001b[38;5;28mlen\u001b[39m(dataset_train), \u001b[38;5;124m\"\u001b[39m\u001b[38;5;124mTest size:\u001b[39m\u001b[38;5;124m\"\u001b[39m, \u001b[38;5;28mlen\u001b[39m(dataset_test))\n\u001b[0;32m---> 60\u001b[0m \u001b[43mtrain\u001b[49m\u001b[38;5;241;43m.\u001b[39;49m\u001b[43mtrain\u001b[49m\u001b[43m(\u001b[49m\u001b[38;5;241;43m1\u001b[39;49m\u001b[43m,\u001b[49m\u001b[43m \u001b[49m\u001b[38;5;241;43m1\u001b[39;49m\u001b[43m,\u001b[49m\u001b[43m \u001b[49m\u001b[43mdataloader_train\u001b[49m\u001b[43m,\u001b[49m\u001b[43m \u001b[49m\u001b[43mdataloader_test\u001b[49m\u001b[43m,\u001b[49m\u001b[43m \u001b[49m\u001b[43minter_pred\u001b[49m\u001b[43m,\u001b[49m\u001b[43m \u001b[49m\u001b[43mloss_fn\u001b[49m\u001b[43m,\u001b[49m\u001b[43m \u001b[49m\u001b[43moptimizer\u001b[49m\u001b[43m,\u001b[49m\u001b[43m \u001b[49m\u001b[43msave_weights\u001b[49m\u001b[38;5;241;43m=\u001b[39;49m\u001b[38;5;28;43;01mFalse\u001b[39;49;00m\u001b[43m)\u001b[49m\n\u001b[1;32m     61\u001b[0m \u001b[38;5;28mprint\u001b[39m(\u001b[38;5;124m\"\u001b[39m\u001b[38;5;130;01m\\n\u001b[39;00m\u001b[38;5;124m-------------------------------------------------------------\u001b[39m\u001b[38;5;130;01m\\n\u001b[39;00m\u001b[38;5;124m\"\u001b[39m)\n",
      "File \u001b[0;32m~/Projects/LearnableInteractionKernel/train.py:116\u001b[0m, in \u001b[0;36mtrain\u001b[0;34m(num_epochs, eval_every_n_epochs, dataloader_train, dataloader_eval, interaction_model, loss_fn, optimizer, save_weights)\u001b[0m\n\u001b[1;32m    114\u001b[0m best_eval_loss \u001b[38;5;241m=\u001b[39m \u001b[38;5;241m99999999.9\u001b[39m\n\u001b[1;32m    115\u001b[0m \u001b[38;5;28;01mfor\u001b[39;00m e \u001b[38;5;129;01min\u001b[39;00m \u001b[38;5;28mrange\u001b[39m(\u001b[38;5;241m1\u001b[39m, num_epochs\u001b[38;5;241m+\u001b[39m\u001b[38;5;241m1\u001b[39m):\n\u001b[0;32m--> 116\u001b[0m     epoch_loss, confusion_matrix \u001b[38;5;241m=\u001b[39m \u001b[43minteraction_epoch\u001b[49m\u001b[43m(\u001b[49m\u001b[43mdataloader_train\u001b[49m\u001b[43m,\u001b[49m\u001b[43m \u001b[49m\u001b[43minteraction_model\u001b[49m\u001b[43m,\u001b[49m\u001b[43m \u001b[49m\u001b[43mloss_fn\u001b[49m\u001b[43m,\u001b[49m\u001b[43m \u001b[49m\u001b[43moptimizer\u001b[49m\u001b[43m,\u001b[49m\u001b[43m \u001b[49m\u001b[43mdevice\u001b[49m\u001b[43m)\u001b[49m\n\u001b[1;32m    117\u001b[0m     tp \u001b[38;5;241m=\u001b[39m confusion_matrix[\u001b[38;5;241m0\u001b[39m,\u001b[38;5;241m0\u001b[39m]\n\u001b[1;32m    118\u001b[0m     fn \u001b[38;5;241m=\u001b[39m confusion_matrix[\u001b[38;5;241m1\u001b[39m,\u001b[38;5;241m0\u001b[39m]\n",
      "File \u001b[0;32m~/Projects/LearnableInteractionKernel/train.py:65\u001b[0m, in \u001b[0;36minteraction_epoch\u001b[0;34m(dataloader, interaction_model, loss_fn, optimizer, device)\u001b[0m\n\u001b[1;32m     62\u001b[0m multi_g \u001b[38;5;241m=\u001b[39m multigraph\u001b[38;5;241m.\u001b[39mto(device)\n\u001b[1;32m     64\u001b[0m \u001b[38;5;66;03m# Compute prediction and loss\u001b[39;00m\n\u001b[0;32m---> 65\u001b[0m predicted_interactions, edges \u001b[38;5;241m=\u001b[39m \u001b[43minteraction_model\u001b[49m\u001b[43m(\u001b[49m\u001b[43mmulti_g\u001b[49m\u001b[43m)\u001b[49m\n\u001b[1;32m     66\u001b[0m predicted_interactions \u001b[38;5;241m=\u001b[39m predicted_interactions\u001b[38;5;241m.\u001b[39msqueeze()\n\u001b[1;32m     68\u001b[0m true_interactions \u001b[38;5;241m=\u001b[39m edge_interactions(multi_g\u001b[38;5;241m.\u001b[39my, edges, multi_g\u001b[38;5;241m.\u001b[39mpdb)\n",
      "File \u001b[0;32m~/anaconda3/envs/torch/lib/python3.11/site-packages/torch/nn/modules/module.py:1511\u001b[0m, in \u001b[0;36mModule._wrapped_call_impl\u001b[0;34m(self, *args, **kwargs)\u001b[0m\n\u001b[1;32m   1509\u001b[0m     \u001b[38;5;28;01mreturn\u001b[39;00m \u001b[38;5;28mself\u001b[39m\u001b[38;5;241m.\u001b[39m_compiled_call_impl(\u001b[38;5;241m*\u001b[39margs, \u001b[38;5;241m*\u001b[39m\u001b[38;5;241m*\u001b[39mkwargs)  \u001b[38;5;66;03m# type: ignore[misc]\u001b[39;00m\n\u001b[1;32m   1510\u001b[0m \u001b[38;5;28;01melse\u001b[39;00m:\n\u001b[0;32m-> 1511\u001b[0m     \u001b[38;5;28;01mreturn\u001b[39;00m \u001b[38;5;28;43mself\u001b[39;49m\u001b[38;5;241;43m.\u001b[39;49m\u001b[43m_call_impl\u001b[49m\u001b[43m(\u001b[49m\u001b[38;5;241;43m*\u001b[39;49m\u001b[43margs\u001b[49m\u001b[43m,\u001b[49m\u001b[43m \u001b[49m\u001b[38;5;241;43m*\u001b[39;49m\u001b[38;5;241;43m*\u001b[39;49m\u001b[43mkwargs\u001b[49m\u001b[43m)\u001b[49m\n",
      "File \u001b[0;32m~/anaconda3/envs/torch/lib/python3.11/site-packages/torch/nn/modules/module.py:1520\u001b[0m, in \u001b[0;36mModule._call_impl\u001b[0;34m(self, *args, **kwargs)\u001b[0m\n\u001b[1;32m   1515\u001b[0m \u001b[38;5;66;03m# If we don't have any hooks, we want to skip the rest of the logic in\u001b[39;00m\n\u001b[1;32m   1516\u001b[0m \u001b[38;5;66;03m# this function, and just call forward.\u001b[39;00m\n\u001b[1;32m   1517\u001b[0m \u001b[38;5;28;01mif\u001b[39;00m \u001b[38;5;129;01mnot\u001b[39;00m (\u001b[38;5;28mself\u001b[39m\u001b[38;5;241m.\u001b[39m_backward_hooks \u001b[38;5;129;01mor\u001b[39;00m \u001b[38;5;28mself\u001b[39m\u001b[38;5;241m.\u001b[39m_backward_pre_hooks \u001b[38;5;129;01mor\u001b[39;00m \u001b[38;5;28mself\u001b[39m\u001b[38;5;241m.\u001b[39m_forward_hooks \u001b[38;5;129;01mor\u001b[39;00m \u001b[38;5;28mself\u001b[39m\u001b[38;5;241m.\u001b[39m_forward_pre_hooks\n\u001b[1;32m   1518\u001b[0m         \u001b[38;5;129;01mor\u001b[39;00m _global_backward_pre_hooks \u001b[38;5;129;01mor\u001b[39;00m _global_backward_hooks\n\u001b[1;32m   1519\u001b[0m         \u001b[38;5;129;01mor\u001b[39;00m _global_forward_hooks \u001b[38;5;129;01mor\u001b[39;00m _global_forward_pre_hooks):\n\u001b[0;32m-> 1520\u001b[0m     \u001b[38;5;28;01mreturn\u001b[39;00m \u001b[43mforward_call\u001b[49m\u001b[43m(\u001b[49m\u001b[38;5;241;43m*\u001b[39;49m\u001b[43margs\u001b[49m\u001b[43m,\u001b[49m\u001b[43m \u001b[49m\u001b[38;5;241;43m*\u001b[39;49m\u001b[38;5;241;43m*\u001b[39;49m\u001b[43mkwargs\u001b[49m\u001b[43m)\u001b[49m\n\u001b[1;32m   1522\u001b[0m \u001b[38;5;28;01mtry\u001b[39;00m:\n\u001b[1;32m   1523\u001b[0m     result \u001b[38;5;241m=\u001b[39m \u001b[38;5;28;01mNone\u001b[39;00m\n",
      "File \u001b[0;32m~/Projects/LearnableInteractionKernel/model.py:207\u001b[0m, in \u001b[0;36mInteractionPredictor.forward\u001b[0;34m(self, combined_graph, all_inter_edge_index)\u001b[0m\n\u001b[1;32m    205\u001b[0m \u001b[38;5;28;01mdef\u001b[39;00m \u001b[38;5;21mforward\u001b[39m(\u001b[38;5;28mself\u001b[39m, combined_graph, all_inter_edge_index\u001b[38;5;241m=\u001b[39m\u001b[38;5;28;01mNone\u001b[39;00m):\n\u001b[0;32m--> 207\u001b[0m     pattern_rec_graph \u001b[38;5;241m=\u001b[39m \u001b[38;5;28;43mself\u001b[39;49m\u001b[38;5;241;43m.\u001b[39;49m\u001b[43mpattern_detector\u001b[49m\u001b[43m(\u001b[49m\u001b[43mcombined_graph\u001b[49m\u001b[43m)\u001b[49m\n\u001b[1;32m    209\u001b[0m     \u001b[38;5;28;01mif\u001b[39;00m all_inter_edge_index \u001b[38;5;241m==\u001b[39m \u001b[38;5;28;01mNone\u001b[39;00m:\n\u001b[1;32m    210\u001b[0m         all_inter_edge_index \u001b[38;5;241m=\u001b[39m []\n",
      "File \u001b[0;32m~/anaconda3/envs/torch/lib/python3.11/site-packages/torch/nn/modules/module.py:1511\u001b[0m, in \u001b[0;36mModule._wrapped_call_impl\u001b[0;34m(self, *args, **kwargs)\u001b[0m\n\u001b[1;32m   1509\u001b[0m     \u001b[38;5;28;01mreturn\u001b[39;00m \u001b[38;5;28mself\u001b[39m\u001b[38;5;241m.\u001b[39m_compiled_call_impl(\u001b[38;5;241m*\u001b[39margs, \u001b[38;5;241m*\u001b[39m\u001b[38;5;241m*\u001b[39mkwargs)  \u001b[38;5;66;03m# type: ignore[misc]\u001b[39;00m\n\u001b[1;32m   1510\u001b[0m \u001b[38;5;28;01melse\u001b[39;00m:\n\u001b[0;32m-> 1511\u001b[0m     \u001b[38;5;28;01mreturn\u001b[39;00m \u001b[38;5;28;43mself\u001b[39;49m\u001b[38;5;241;43m.\u001b[39;49m\u001b[43m_call_impl\u001b[49m\u001b[43m(\u001b[49m\u001b[38;5;241;43m*\u001b[39;49m\u001b[43margs\u001b[49m\u001b[43m,\u001b[49m\u001b[43m \u001b[49m\u001b[38;5;241;43m*\u001b[39;49m\u001b[38;5;241;43m*\u001b[39;49m\u001b[43mkwargs\u001b[49m\u001b[43m)\u001b[49m\n",
      "File \u001b[0;32m~/anaconda3/envs/torch/lib/python3.11/site-packages/torch/nn/modules/module.py:1520\u001b[0m, in \u001b[0;36mModule._call_impl\u001b[0;34m(self, *args, **kwargs)\u001b[0m\n\u001b[1;32m   1515\u001b[0m \u001b[38;5;66;03m# If we don't have any hooks, we want to skip the rest of the logic in\u001b[39;00m\n\u001b[1;32m   1516\u001b[0m \u001b[38;5;66;03m# this function, and just call forward.\u001b[39;00m\n\u001b[1;32m   1517\u001b[0m \u001b[38;5;28;01mif\u001b[39;00m \u001b[38;5;129;01mnot\u001b[39;00m (\u001b[38;5;28mself\u001b[39m\u001b[38;5;241m.\u001b[39m_backward_hooks \u001b[38;5;129;01mor\u001b[39;00m \u001b[38;5;28mself\u001b[39m\u001b[38;5;241m.\u001b[39m_backward_pre_hooks \u001b[38;5;129;01mor\u001b[39;00m \u001b[38;5;28mself\u001b[39m\u001b[38;5;241m.\u001b[39m_forward_hooks \u001b[38;5;129;01mor\u001b[39;00m \u001b[38;5;28mself\u001b[39m\u001b[38;5;241m.\u001b[39m_forward_pre_hooks\n\u001b[1;32m   1518\u001b[0m         \u001b[38;5;129;01mor\u001b[39;00m _global_backward_pre_hooks \u001b[38;5;129;01mor\u001b[39;00m _global_backward_hooks\n\u001b[1;32m   1519\u001b[0m         \u001b[38;5;129;01mor\u001b[39;00m _global_forward_hooks \u001b[38;5;129;01mor\u001b[39;00m _global_forward_pre_hooks):\n\u001b[0;32m-> 1520\u001b[0m     \u001b[38;5;28;01mreturn\u001b[39;00m \u001b[43mforward_call\u001b[49m\u001b[43m(\u001b[49m\u001b[38;5;241;43m*\u001b[39;49m\u001b[43margs\u001b[49m\u001b[43m,\u001b[49m\u001b[43m \u001b[49m\u001b[38;5;241;43m*\u001b[39;49m\u001b[38;5;241;43m*\u001b[39;49m\u001b[43mkwargs\u001b[49m\u001b[43m)\u001b[49m\n\u001b[1;32m   1522\u001b[0m \u001b[38;5;28;01mtry\u001b[39;00m:\n\u001b[1;32m   1523\u001b[0m     result \u001b[38;5;241m=\u001b[39m \u001b[38;5;28;01mNone\u001b[39;00m\n",
      "File \u001b[0;32m~/Projects/LearnableInteractionKernel/model.py:137\u001b[0m, in \u001b[0;36me3pattern.forward\u001b[0;34m(self, graph)\u001b[0m\n\u001b[1;32m    135\u001b[0m updated_graph \u001b[38;5;241m=\u001b[39m Data(x\u001b[38;5;241m=\u001b[39mnode_emb, edge_index\u001b[38;5;241m=\u001b[39mgraph\u001b[38;5;241m.\u001b[39medge_index, pos\u001b[38;5;241m=\u001b[39mgraph\u001b[38;5;241m.\u001b[39mpos, edge_attr\u001b[38;5;241m=\u001b[39medge_emb)\n\u001b[1;32m    136\u001b[0m \u001b[38;5;28;01mfor\u001b[39;00m layer \u001b[38;5;129;01min\u001b[39;00m \u001b[38;5;28mself\u001b[39m\u001b[38;5;241m.\u001b[39mlayers:\n\u001b[0;32m--> 137\u001b[0m     updated_graph\u001b[38;5;241m.\u001b[39mx \u001b[38;5;241m=\u001b[39m \u001b[43mlayer\u001b[49m\u001b[43m(\u001b[49m\u001b[43mupdated_graph\u001b[49m\u001b[43m,\u001b[49m\u001b[43m \u001b[49m\u001b[43minitial_node_emb\u001b[49m\u001b[43m)\u001b[49m\n\u001b[1;32m    139\u001b[0m \u001b[38;5;28;01mreturn\u001b[39;00m updated_graph\n",
      "File \u001b[0;32m~/anaconda3/envs/torch/lib/python3.11/site-packages/torch/nn/modules/module.py:1511\u001b[0m, in \u001b[0;36mModule._wrapped_call_impl\u001b[0;34m(self, *args, **kwargs)\u001b[0m\n\u001b[1;32m   1509\u001b[0m     \u001b[38;5;28;01mreturn\u001b[39;00m \u001b[38;5;28mself\u001b[39m\u001b[38;5;241m.\u001b[39m_compiled_call_impl(\u001b[38;5;241m*\u001b[39margs, \u001b[38;5;241m*\u001b[39m\u001b[38;5;241m*\u001b[39mkwargs)  \u001b[38;5;66;03m# type: ignore[misc]\u001b[39;00m\n\u001b[1;32m   1510\u001b[0m \u001b[38;5;28;01melse\u001b[39;00m:\n\u001b[0;32m-> 1511\u001b[0m     \u001b[38;5;28;01mreturn\u001b[39;00m \u001b[38;5;28;43mself\u001b[39;49m\u001b[38;5;241;43m.\u001b[39;49m\u001b[43m_call_impl\u001b[49m\u001b[43m(\u001b[49m\u001b[38;5;241;43m*\u001b[39;49m\u001b[43margs\u001b[49m\u001b[43m,\u001b[49m\u001b[43m \u001b[49m\u001b[38;5;241;43m*\u001b[39;49m\u001b[38;5;241;43m*\u001b[39;49m\u001b[43mkwargs\u001b[49m\u001b[43m)\u001b[49m\n",
      "File \u001b[0;32m~/anaconda3/envs/torch/lib/python3.11/site-packages/torch/nn/modules/module.py:1520\u001b[0m, in \u001b[0;36mModule._call_impl\u001b[0;34m(self, *args, **kwargs)\u001b[0m\n\u001b[1;32m   1515\u001b[0m \u001b[38;5;66;03m# If we don't have any hooks, we want to skip the rest of the logic in\u001b[39;00m\n\u001b[1;32m   1516\u001b[0m \u001b[38;5;66;03m# this function, and just call forward.\u001b[39;00m\n\u001b[1;32m   1517\u001b[0m \u001b[38;5;28;01mif\u001b[39;00m \u001b[38;5;129;01mnot\u001b[39;00m (\u001b[38;5;28mself\u001b[39m\u001b[38;5;241m.\u001b[39m_backward_hooks \u001b[38;5;129;01mor\u001b[39;00m \u001b[38;5;28mself\u001b[39m\u001b[38;5;241m.\u001b[39m_backward_pre_hooks \u001b[38;5;129;01mor\u001b[39;00m \u001b[38;5;28mself\u001b[39m\u001b[38;5;241m.\u001b[39m_forward_hooks \u001b[38;5;129;01mor\u001b[39;00m \u001b[38;5;28mself\u001b[39m\u001b[38;5;241m.\u001b[39m_forward_pre_hooks\n\u001b[1;32m   1518\u001b[0m         \u001b[38;5;129;01mor\u001b[39;00m _global_backward_pre_hooks \u001b[38;5;129;01mor\u001b[39;00m _global_backward_hooks\n\u001b[1;32m   1519\u001b[0m         \u001b[38;5;129;01mor\u001b[39;00m _global_forward_hooks \u001b[38;5;129;01mor\u001b[39;00m _global_forward_pre_hooks):\n\u001b[0;32m-> 1520\u001b[0m     \u001b[38;5;28;01mreturn\u001b[39;00m \u001b[43mforward_call\u001b[49m\u001b[43m(\u001b[49m\u001b[38;5;241;43m*\u001b[39;49m\u001b[43margs\u001b[49m\u001b[43m,\u001b[49m\u001b[43m \u001b[49m\u001b[38;5;241;43m*\u001b[39;49m\u001b[38;5;241;43m*\u001b[39;49m\u001b[43mkwargs\u001b[49m\u001b[43m)\u001b[49m\n\u001b[1;32m   1522\u001b[0m \u001b[38;5;28;01mtry\u001b[39;00m:\n\u001b[1;32m   1523\u001b[0m     result \u001b[38;5;241m=\u001b[39m \u001b[38;5;28;01mNone\u001b[39;00m\n",
      "File \u001b[0;32m~/Projects/LearnableInteractionKernel/model.py:55\u001b[0m, in \u001b[0;36me3mp_step.forward\u001b[0;34m(self, graph, initial_node_features)\u001b[0m\n\u001b[1;32m     53\u001b[0m edge_dst\u001b[38;5;241m=\u001b[39mgraph\u001b[38;5;241m.\u001b[39medge_index[\u001b[38;5;241m1\u001b[39m]\n\u001b[1;32m     54\u001b[0m num_neighbors \u001b[38;5;241m=\u001b[39m edge_src\u001b[38;5;241m.\u001b[39msize(dim\u001b[38;5;241m=\u001b[39m\u001b[38;5;241m0\u001b[39m) \u001b[38;5;241m/\u001b[39m graph\u001b[38;5;241m.\u001b[39mx\u001b[38;5;241m.\u001b[39msize(dim\u001b[38;5;241m=\u001b[39m\u001b[38;5;241m0\u001b[39m)\n\u001b[0;32m---> 55\u001b[0m edge_vec\u001b[38;5;241m=\u001b[39m\u001b[43mgraph\u001b[49m\u001b[38;5;241;43m.\u001b[39;49m\u001b[43mpos\u001b[49m\u001b[43m[\u001b[49m\u001b[43medge_dst\u001b[49m\u001b[43m]\u001b[49m\u001b[38;5;241;43m-\u001b[39;49m\u001b[43mgraph\u001b[49m\u001b[38;5;241;43m.\u001b[39;49m\u001b[43mpos\u001b[49m\u001b[43m[\u001b[49m\u001b[43medge_src\u001b[49m\u001b[43m]\u001b[49m\n\u001b[1;32m     56\u001b[0m edge_sh\u001b[38;5;241m=\u001b[39mo3\u001b[38;5;241m.\u001b[39mspherical_harmonics(\u001b[38;5;28mself\u001b[39m\u001b[38;5;241m.\u001b[39mirreps_sh, edge_vec, normalize\u001b[38;5;241m=\u001b[39m\u001b[38;5;28;01mTrue\u001b[39;00m, normalization\u001b[38;5;241m=\u001b[39m\u001b[38;5;124m'\u001b[39m\u001b[38;5;124mcomponent\u001b[39m\u001b[38;5;124m'\u001b[39m)\n\u001b[1;32m     58\u001b[0m \u001b[38;5;66;03m# calculate messages\u001b[39;00m\n",
      "\u001b[0;31mRuntimeError\u001b[0m: CUDA error: device-side assert triggered\nCUDA kernel errors might be asynchronously reported at some other API call, so the stacktrace below might be incorrect.\nFor debugging consider passing CUDA_LAUNCH_BLOCKING=1.\nCompile with `TORCH_USE_CUDA_DSA` to enable device-side assertions.\n"
     ]
    }
   ],
   "source": [
    "import train\n",
    "import torch\n",
    "from torch import nn\n",
    "from data import PDBBindInteractionDataset\n",
    "from torch.utils.data import DataLoader\n",
    "from e3nn import o3\n",
    "from model import InteractionPredictor\n",
    "\n",
    "import warnings\n",
    "warnings.filterwarnings(\"ignore\")\n",
    "\n",
    "import pandas as pd\n",
    "lp_pdbbind = pd.read_csv('LP_PDBBind.csv', index_col=0)# TODO: Fix the 61 failed pdbs and remove this exclusion filter\n",
    "train_pdbs = [ x for x in list(lp_pdbbind[(lp_pdbbind['new_split'] == 'train') & lp_pdbbind.CL1 & ~lp_pdbbind.covalent].index) if x not in failed_pdb_list ]\n",
    "test_pdbs = [ x for x in list(lp_pdbbind[(lp_pdbbind['new_split'] == 'test') & lp_pdbbind.CL1 & ~lp_pdbbind.covalent].index) if x not in failed_pdb_list ]\n",
    "\n",
    "# issues 1 - these were reporting faulty interactions\n",
    "train_pdbs = ['2gst', '5fnu', '6gl8', '1a0q']\n",
    "test_pdbs = train_pdbs\n",
    "\n",
    "# these are available after recalc\n",
    "train_pdbs = ['4tln', '5tln', '2tpi', '4cts', '1rnt', '6cha', '4tmn', '1tmn', '1tlp']\n",
    "test_pdbs = train_pdbs\n",
    "\n",
    "for interaction_type in ['hbond', 'pistacking', 'hydrophobic', 'pication', 'saltbridges', 'halogenbond']:\n",
    "    print(\"@@@@ \", interaction_type)\n",
    "    inter_pred = InteractionPredictor(n_pattern_layers = 1, \n",
    "                                  radius = 15.0,\n",
    "                                  irreps_input = o3.Irreps(\"1x0e\"),\n",
    "                                  irreps_message = o3.Irreps(\"1x0e\"),\n",
    "                                  pattern_spherical_harmonics_l = 1,\n",
    "                                  irreps_node = o3.Irreps(\"1x0e\"),\n",
    "                                  node_embedding_size = 1, \n",
    "                                  node_emb_hidden_layers = [], \n",
    "                                  node_act = torch.relu,\n",
    "                                  edge_embedding_size = 1,\n",
    "                                  edge_emb_hidden_layers = [],\n",
    "                                  edge_act = torch.relu,\n",
    "                                  msg_weights_hidden_layers = [],\n",
    "                                  msg_weights_act = torch.relu,\n",
    "                                  node_update_hidden_layers = [], \n",
    "                                  node_update_act = torch.relu,\n",
    "                                  basis_density_per_A = 1, \n",
    "                                  inter_spherical_harmonics_l = 1,\n",
    "                                  inter_tp_weights_hidden_layers = [], \n",
    "                                  inter_tp_weights_act = torch.relu,\n",
    "                                  irreps_out = o3.Irreps(\"1x0e\"))\n",
    "    print(\"Model weights:\", sum(p.numel() for p in inter_pred.parameters() if p.requires_grad))\n",
    "\n",
    "    loss_fn = nn.BCEWithLogitsLoss()\n",
    "    optimizer = torch.optim.Adam(inter_pred.parameters(), lr=1e-3, amsgrad=True)\n",
    "\n",
    "    dataset_train = PDBBindInteractionDataset(\"pdbbind2020/\", train_pdbs, interaction_type)\n",
    "    dataloader_train = DataLoader(dataset_train, batch_size=1, shuffle=False, collate_fn=dataset_train.collate_fn, pin_memory=True, num_workers=1)\n",
    "    dataset_test = PDBBindInteractionDataset(\"pdbbind2020/\", test_pdbs, interaction_type)\n",
    "    dataloader_test = DataLoader(dataset_test, batch_size=1, shuffle=False, collate_fn=dataset_test.collate_fn, pin_memory=True, num_workers=1)\n",
    "\n",
    "    print(\"Training size:\", len(dataset_train), \"Test size:\", len(dataset_test))\n",
    "\n",
    "    train.train(1, 1, dataloader_train, dataloader_test, inter_pred, loss_fn, optimizer, save_weights=False)\n",
    "    print(\"\\n-------------------------------------------------------------\\n\")"
   ]
  },
  {
   "cell_type": "code",
   "execution_count": null,
   "metadata": {},
   "outputs": [
    {
     "data": {
      "text/plain": [
       "Data(x=[3, 10], test=[10])"
      ]
     },
     "execution_count": 5,
     "metadata": {},
     "output_type": "execute_result"
    }
   ],
   "source": [
    "from torch_geometric.data import Data\n",
    "\n",
    "Data(x=torch.randn(3,10), test=[\"boo\" for _ in range(10)])"
   ]
  }
 ],
 "metadata": {
  "kernelspec": {
   "display_name": "torch",
   "language": "python",
   "name": "python3"
  },
  "language_info": {
   "codemirror_mode": {
    "name": "ipython",
    "version": 3
   },
   "file_extension": ".py",
   "mimetype": "text/x-python",
   "name": "python",
   "nbconvert_exporter": "python",
   "pygments_lexer": "ipython3",
   "version": "3.11.8"
  }
 },
 "nbformat": 4,
 "nbformat_minor": 2
}
